{
 "cells": [
  {
   "cell_type": "markdown",
   "metadata": {},
   "source": [
    "### Kelly Tornetta\n",
    "\n",
    "### Titanic Data - Neural Network"
   ]
  },
  {
   "cell_type": "code",
   "execution_count": 141,
   "metadata": {},
   "outputs": [],
   "source": [
    "import pandas as pd\n",
    "import numpy as np\n",
    "import matplotlib.pyplot as plt\n",
    "from sklearn.model_selection import train_test_split\n",
    "from sklearn.model_selection import cross_val_score\n",
    "from sklearn.metrics import confusion_matrix, classification_report\n",
    "from sklearn.metrics import plot_confusion_matrix\n",
    "from sklearn.neural_network import MLPClassifier"
   ]
  },
  {
   "cell_type": "markdown",
   "metadata": {},
   "source": [
    "### Importing Data"
   ]
  },
  {
   "cell_type": "code",
   "execution_count": 142,
   "metadata": {},
   "outputs": [
    {
     "data": {
      "text/html": [
       "<div>\n",
       "<style scoped>\n",
       "    .dataframe tbody tr th:only-of-type {\n",
       "        vertical-align: middle;\n",
       "    }\n",
       "\n",
       "    .dataframe tbody tr th {\n",
       "        vertical-align: top;\n",
       "    }\n",
       "\n",
       "    .dataframe thead th {\n",
       "        text-align: right;\n",
       "    }\n",
       "</style>\n",
       "<table border=\"1\" class=\"dataframe\">\n",
       "  <thead>\n",
       "    <tr style=\"text-align: right;\">\n",
       "      <th></th>\n",
       "      <th>Unnamed: 0</th>\n",
       "      <th>pclass</th>\n",
       "      <th>survived</th>\n",
       "      <th>name</th>\n",
       "      <th>sex</th>\n",
       "      <th>age</th>\n",
       "      <th>sibsp</th>\n",
       "      <th>parch</th>\n",
       "      <th>ticket</th>\n",
       "      <th>fare</th>\n",
       "      <th>cabin</th>\n",
       "      <th>embarked</th>\n",
       "      <th>boat</th>\n",
       "      <th>body</th>\n",
       "      <th>home.dest</th>\n",
       "    </tr>\n",
       "  </thead>\n",
       "  <tbody>\n",
       "    <tr>\n",
       "      <th>0</th>\n",
       "      <td>1</td>\n",
       "      <td>1st</td>\n",
       "      <td>1</td>\n",
       "      <td>Allen, Miss. Elisabeth Walton</td>\n",
       "      <td>female</td>\n",
       "      <td>29.0000</td>\n",
       "      <td>0</td>\n",
       "      <td>0</td>\n",
       "      <td>24160</td>\n",
       "      <td>211.337494</td>\n",
       "      <td>B5</td>\n",
       "      <td>Southampton</td>\n",
       "      <td>2</td>\n",
       "      <td>NaN</td>\n",
       "      <td>St Louis, MO</td>\n",
       "    </tr>\n",
       "    <tr>\n",
       "      <th>1</th>\n",
       "      <td>2</td>\n",
       "      <td>1st</td>\n",
       "      <td>1</td>\n",
       "      <td>Allison, Master. Hudson Trevor</td>\n",
       "      <td>male</td>\n",
       "      <td>0.9167</td>\n",
       "      <td>1</td>\n",
       "      <td>2</td>\n",
       "      <td>113781</td>\n",
       "      <td>151.550003</td>\n",
       "      <td>C22 C26</td>\n",
       "      <td>Southampton</td>\n",
       "      <td>11</td>\n",
       "      <td>NaN</td>\n",
       "      <td>Montreal, PQ / Chesterville, ON</td>\n",
       "    </tr>\n",
       "    <tr>\n",
       "      <th>2</th>\n",
       "      <td>3</td>\n",
       "      <td>1st</td>\n",
       "      <td>0</td>\n",
       "      <td>Allison, Miss. Helen Loraine</td>\n",
       "      <td>female</td>\n",
       "      <td>2.0000</td>\n",
       "      <td>1</td>\n",
       "      <td>2</td>\n",
       "      <td>113781</td>\n",
       "      <td>151.550003</td>\n",
       "      <td>C22 C26</td>\n",
       "      <td>Southampton</td>\n",
       "      <td>NaN</td>\n",
       "      <td>NaN</td>\n",
       "      <td>Montreal, PQ / Chesterville, ON</td>\n",
       "    </tr>\n",
       "    <tr>\n",
       "      <th>3</th>\n",
       "      <td>4</td>\n",
       "      <td>1st</td>\n",
       "      <td>0</td>\n",
       "      <td>Allison, Mr. Hudson Joshua Crei</td>\n",
       "      <td>male</td>\n",
       "      <td>30.0000</td>\n",
       "      <td>1</td>\n",
       "      <td>2</td>\n",
       "      <td>113781</td>\n",
       "      <td>151.550003</td>\n",
       "      <td>C22 C26</td>\n",
       "      <td>Southampton</td>\n",
       "      <td>NaN</td>\n",
       "      <td>135.0</td>\n",
       "      <td>Montreal, PQ / Chesterville, ON</td>\n",
       "    </tr>\n",
       "    <tr>\n",
       "      <th>4</th>\n",
       "      <td>5</td>\n",
       "      <td>1st</td>\n",
       "      <td>0</td>\n",
       "      <td>Allison, Mrs. Hudson J C (Bessi</td>\n",
       "      <td>female</td>\n",
       "      <td>25.0000</td>\n",
       "      <td>1</td>\n",
       "      <td>2</td>\n",
       "      <td>113781</td>\n",
       "      <td>151.550003</td>\n",
       "      <td>C22 C26</td>\n",
       "      <td>Southampton</td>\n",
       "      <td>NaN</td>\n",
       "      <td>NaN</td>\n",
       "      <td>Montreal, PQ / Chesterville, ON</td>\n",
       "    </tr>\n",
       "  </tbody>\n",
       "</table>\n",
       "</div>"
      ],
      "text/plain": [
       "   Unnamed: 0 pclass  survived                             name     sex  \\\n",
       "0           1    1st         1    Allen, Miss. Elisabeth Walton  female   \n",
       "1           2    1st         1   Allison, Master. Hudson Trevor    male   \n",
       "2           3    1st         0     Allison, Miss. Helen Loraine  female   \n",
       "3           4    1st         0  Allison, Mr. Hudson Joshua Crei    male   \n",
       "4           5    1st         0  Allison, Mrs. Hudson J C (Bessi  female   \n",
       "\n",
       "       age  sibsp  parch  ticket        fare    cabin     embarked boat  \\\n",
       "0  29.0000      0      0   24160  211.337494       B5  Southampton    2   \n",
       "1   0.9167      1      2  113781  151.550003  C22 C26  Southampton   11   \n",
       "2   2.0000      1      2  113781  151.550003  C22 C26  Southampton  NaN   \n",
       "3  30.0000      1      2  113781  151.550003  C22 C26  Southampton  NaN   \n",
       "4  25.0000      1      2  113781  151.550003  C22 C26  Southampton  NaN   \n",
       "\n",
       "    body                        home.dest  \n",
       "0    NaN                     St Louis, MO  \n",
       "1    NaN  Montreal, PQ / Chesterville, ON  \n",
       "2    NaN  Montreal, PQ / Chesterville, ON  \n",
       "3  135.0  Montreal, PQ / Chesterville, ON  \n",
       "4    NaN  Montreal, PQ / Chesterville, ON  "
      ]
     },
     "execution_count": 142,
     "metadata": {},
     "output_type": "execute_result"
    }
   ],
   "source": [
    "df = pd.read_csv('Titanic.csv')\n",
    "df.head()"
   ]
  },
  {
   "cell_type": "code",
   "execution_count": 143,
   "metadata": {},
   "outputs": [
    {
     "data": {
      "text/plain": [
       "Index(['Unnamed: 0', 'pclass', 'survived', 'name', 'sex', 'age', 'sibsp',\n",
       "       'parch', 'ticket', 'fare', 'cabin', 'embarked', 'boat', 'body',\n",
       "       'home.dest'],\n",
       "      dtype='object')"
      ]
     },
     "execution_count": 143,
     "metadata": {},
     "output_type": "execute_result"
    }
   ],
   "source": [
    "df.columns"
   ]
  },
  {
   "cell_type": "code",
   "execution_count": 144,
   "metadata": {},
   "outputs": [],
   "source": [
    "df = df.drop(['Unnamed: 0', 'name', 'parch', 'ticket', 'fare', 'cabin', 'embarked', 'boat', 'body', 'home.dest'], axis = 'columns')"
   ]
  },
  {
   "cell_type": "code",
   "execution_count": 145,
   "metadata": {
    "scrolled": true
   },
   "outputs": [
    {
     "data": {
      "text/html": [
       "<div>\n",
       "<style scoped>\n",
       "    .dataframe tbody tr th:only-of-type {\n",
       "        vertical-align: middle;\n",
       "    }\n",
       "\n",
       "    .dataframe tbody tr th {\n",
       "        vertical-align: top;\n",
       "    }\n",
       "\n",
       "    .dataframe thead th {\n",
       "        text-align: right;\n",
       "    }\n",
       "</style>\n",
       "<table border=\"1\" class=\"dataframe\">\n",
       "  <thead>\n",
       "    <tr style=\"text-align: right;\">\n",
       "      <th></th>\n",
       "      <th>pclass</th>\n",
       "      <th>survived</th>\n",
       "      <th>sex</th>\n",
       "      <th>age</th>\n",
       "      <th>sibsp</th>\n",
       "    </tr>\n",
       "  </thead>\n",
       "  <tbody>\n",
       "    <tr>\n",
       "      <th>0</th>\n",
       "      <td>1st</td>\n",
       "      <td>1</td>\n",
       "      <td>female</td>\n",
       "      <td>29.0000</td>\n",
       "      <td>0</td>\n",
       "    </tr>\n",
       "    <tr>\n",
       "      <th>1</th>\n",
       "      <td>1st</td>\n",
       "      <td>1</td>\n",
       "      <td>male</td>\n",
       "      <td>0.9167</td>\n",
       "      <td>1</td>\n",
       "    </tr>\n",
       "    <tr>\n",
       "      <th>2</th>\n",
       "      <td>1st</td>\n",
       "      <td>0</td>\n",
       "      <td>female</td>\n",
       "      <td>2.0000</td>\n",
       "      <td>1</td>\n",
       "    </tr>\n",
       "    <tr>\n",
       "      <th>3</th>\n",
       "      <td>1st</td>\n",
       "      <td>0</td>\n",
       "      <td>male</td>\n",
       "      <td>30.0000</td>\n",
       "      <td>1</td>\n",
       "    </tr>\n",
       "    <tr>\n",
       "      <th>4</th>\n",
       "      <td>1st</td>\n",
       "      <td>0</td>\n",
       "      <td>female</td>\n",
       "      <td>25.0000</td>\n",
       "      <td>1</td>\n",
       "    </tr>\n",
       "  </tbody>\n",
       "</table>\n",
       "</div>"
      ],
      "text/plain": [
       "  pclass  survived     sex      age  sibsp\n",
       "0    1st         1  female  29.0000      0\n",
       "1    1st         1    male   0.9167      1\n",
       "2    1st         0  female   2.0000      1\n",
       "3    1st         0    male  30.0000      1\n",
       "4    1st         0  female  25.0000      1"
      ]
     },
     "execution_count": 145,
     "metadata": {},
     "output_type": "execute_result"
    }
   ],
   "source": [
    "df.head()"
   ]
  },
  {
   "cell_type": "markdown",
   "metadata": {},
   "source": [
    "### Missing Data"
   ]
  },
  {
   "cell_type": "code",
   "execution_count": 146,
   "metadata": {},
   "outputs": [
    {
     "data": {
      "text/plain": [
       "pclass        0\n",
       "survived      0\n",
       "sex           0\n",
       "age         263\n",
       "sibsp         0\n",
       "dtype: int64"
      ]
     },
     "execution_count": 146,
     "metadata": {},
     "output_type": "execute_result"
    }
   ],
   "source": [
    "df.isnull().sum()"
   ]
  },
  {
   "cell_type": "code",
   "execution_count": 147,
   "metadata": {},
   "outputs": [],
   "source": [
    "df[\"age\"] = df[\"age\"].fillna(df[\"age\"].median())"
   ]
  },
  {
   "cell_type": "code",
   "execution_count": 148,
   "metadata": {},
   "outputs": [
    {
     "data": {
      "text/plain": [
       "pclass      0\n",
       "survived    0\n",
       "sex         0\n",
       "age         0\n",
       "sibsp       0\n",
       "dtype: int64"
      ]
     },
     "execution_count": 148,
     "metadata": {},
     "output_type": "execute_result"
    }
   ],
   "source": [
    "df.isnull().sum()"
   ]
  },
  {
   "cell_type": "markdown",
   "metadata": {},
   "source": [
    "### Format Data"
   ]
  },
  {
   "cell_type": "code",
   "execution_count": 149,
   "metadata": {},
   "outputs": [
    {
     "data": {
      "text/html": [
       "<div>\n",
       "<style scoped>\n",
       "    .dataframe tbody tr th:only-of-type {\n",
       "        vertical-align: middle;\n",
       "    }\n",
       "\n",
       "    .dataframe tbody tr th {\n",
       "        vertical-align: top;\n",
       "    }\n",
       "\n",
       "    .dataframe thead th {\n",
       "        text-align: right;\n",
       "    }\n",
       "</style>\n",
       "<table border=\"1\" class=\"dataframe\">\n",
       "  <thead>\n",
       "    <tr style=\"text-align: right;\">\n",
       "      <th></th>\n",
       "      <th>pclass</th>\n",
       "      <th>sex</th>\n",
       "      <th>age</th>\n",
       "      <th>sibsp</th>\n",
       "    </tr>\n",
       "  </thead>\n",
       "  <tbody>\n",
       "    <tr>\n",
       "      <th>0</th>\n",
       "      <td>1st</td>\n",
       "      <td>female</td>\n",
       "      <td>29.0000</td>\n",
       "      <td>0</td>\n",
       "    </tr>\n",
       "    <tr>\n",
       "      <th>1</th>\n",
       "      <td>1st</td>\n",
       "      <td>male</td>\n",
       "      <td>0.9167</td>\n",
       "      <td>1</td>\n",
       "    </tr>\n",
       "    <tr>\n",
       "      <th>2</th>\n",
       "      <td>1st</td>\n",
       "      <td>female</td>\n",
       "      <td>2.0000</td>\n",
       "      <td>1</td>\n",
       "    </tr>\n",
       "    <tr>\n",
       "      <th>3</th>\n",
       "      <td>1st</td>\n",
       "      <td>male</td>\n",
       "      <td>30.0000</td>\n",
       "      <td>1</td>\n",
       "    </tr>\n",
       "    <tr>\n",
       "      <th>4</th>\n",
       "      <td>1st</td>\n",
       "      <td>female</td>\n",
       "      <td>25.0000</td>\n",
       "      <td>1</td>\n",
       "    </tr>\n",
       "  </tbody>\n",
       "</table>\n",
       "</div>"
      ],
      "text/plain": [
       "  pclass     sex      age  sibsp\n",
       "0    1st  female  29.0000      0\n",
       "1    1st    male   0.9167      1\n",
       "2    1st  female   2.0000      1\n",
       "3    1st    male  30.0000      1\n",
       "4    1st  female  25.0000      1"
      ]
     },
     "execution_count": 149,
     "metadata": {},
     "output_type": "execute_result"
    }
   ],
   "source": [
    "X = df.drop('survived', axis = 'columns').copy()\n",
    "X.head()"
   ]
  },
  {
   "cell_type": "code",
   "execution_count": 150,
   "metadata": {},
   "outputs": [
    {
     "data": {
      "text/plain": [
       "0    1\n",
       "1    1\n",
       "2    0\n",
       "3    0\n",
       "4    0\n",
       "Name: survived, dtype: int64"
      ]
     },
     "execution_count": 150,
     "metadata": {},
     "output_type": "execute_result"
    }
   ],
   "source": [
    "y = df['survived'].copy()\n",
    "y.head()"
   ]
  },
  {
   "cell_type": "code",
   "execution_count": 151,
   "metadata": {},
   "outputs": [
    {
     "data": {
      "text/plain": [
       "pclass       object\n",
       "survived      int64\n",
       "sex          object\n",
       "age         float64\n",
       "sibsp         int64\n",
       "dtype: object"
      ]
     },
     "execution_count": 151,
     "metadata": {},
     "output_type": "execute_result"
    }
   ],
   "source": [
    "df.dtypes"
   ]
  },
  {
   "cell_type": "code",
   "execution_count": 152,
   "metadata": {},
   "outputs": [
    {
     "data": {
      "text/plain": [
       "array(['1st', '2nd', '3rd'], dtype=object)"
      ]
     },
     "execution_count": 152,
     "metadata": {},
     "output_type": "execute_result"
    }
   ],
   "source": [
    "df['pclass'].unique()"
   ]
  },
  {
   "cell_type": "code",
   "execution_count": 153,
   "metadata": {},
   "outputs": [
    {
     "data": {
      "text/plain": [
       "array(['female', 'male'], dtype=object)"
      ]
     },
     "execution_count": 153,
     "metadata": {},
     "output_type": "execute_result"
    }
   ],
   "source": [
    "df['sex'].unique()"
   ]
  },
  {
   "cell_type": "code",
   "execution_count": 154,
   "metadata": {},
   "outputs": [
    {
     "data": {
      "text/html": [
       "<div>\n",
       "<style scoped>\n",
       "    .dataframe tbody tr th:only-of-type {\n",
       "        vertical-align: middle;\n",
       "    }\n",
       "\n",
       "    .dataframe tbody tr th {\n",
       "        vertical-align: top;\n",
       "    }\n",
       "\n",
       "    .dataframe thead th {\n",
       "        text-align: right;\n",
       "    }\n",
       "</style>\n",
       "<table border=\"1\" class=\"dataframe\">\n",
       "  <thead>\n",
       "    <tr style=\"text-align: right;\">\n",
       "      <th></th>\n",
       "      <th>age</th>\n",
       "      <th>sibsp</th>\n",
       "      <th>pclass_1st</th>\n",
       "      <th>pclass_2nd</th>\n",
       "      <th>pclass_3rd</th>\n",
       "      <th>sex_female</th>\n",
       "      <th>sex_male</th>\n",
       "    </tr>\n",
       "  </thead>\n",
       "  <tbody>\n",
       "    <tr>\n",
       "      <th>0</th>\n",
       "      <td>29.0000</td>\n",
       "      <td>0</td>\n",
       "      <td>1</td>\n",
       "      <td>0</td>\n",
       "      <td>0</td>\n",
       "      <td>1</td>\n",
       "      <td>0</td>\n",
       "    </tr>\n",
       "    <tr>\n",
       "      <th>1</th>\n",
       "      <td>0.9167</td>\n",
       "      <td>1</td>\n",
       "      <td>1</td>\n",
       "      <td>0</td>\n",
       "      <td>0</td>\n",
       "      <td>0</td>\n",
       "      <td>1</td>\n",
       "    </tr>\n",
       "    <tr>\n",
       "      <th>2</th>\n",
       "      <td>2.0000</td>\n",
       "      <td>1</td>\n",
       "      <td>1</td>\n",
       "      <td>0</td>\n",
       "      <td>0</td>\n",
       "      <td>1</td>\n",
       "      <td>0</td>\n",
       "    </tr>\n",
       "    <tr>\n",
       "      <th>3</th>\n",
       "      <td>30.0000</td>\n",
       "      <td>1</td>\n",
       "      <td>1</td>\n",
       "      <td>0</td>\n",
       "      <td>0</td>\n",
       "      <td>0</td>\n",
       "      <td>1</td>\n",
       "    </tr>\n",
       "    <tr>\n",
       "      <th>4</th>\n",
       "      <td>25.0000</td>\n",
       "      <td>1</td>\n",
       "      <td>1</td>\n",
       "      <td>0</td>\n",
       "      <td>0</td>\n",
       "      <td>1</td>\n",
       "      <td>0</td>\n",
       "    </tr>\n",
       "  </tbody>\n",
       "</table>\n",
       "</div>"
      ],
      "text/plain": [
       "       age  sibsp  pclass_1st  pclass_2nd  pclass_3rd  sex_female  sex_male\n",
       "0  29.0000      0           1           0           0           1         0\n",
       "1   0.9167      1           1           0           0           0         1\n",
       "2   2.0000      1           1           0           0           1         0\n",
       "3  30.0000      1           1           0           0           0         1\n",
       "4  25.0000      1           1           0           0           1         0"
      ]
     },
     "execution_count": 154,
     "metadata": {},
     "output_type": "execute_result"
    }
   ],
   "source": [
    "X_encoded = pd.get_dummies(X, columns = ['pclass', 'sex'])\n",
    "X_encoded.head()"
   ]
  },
  {
   "cell_type": "code",
   "execution_count": 155,
   "metadata": {},
   "outputs": [
    {
     "data": {
      "text/plain": [
       "array([1, 0])"
      ]
     },
     "execution_count": 155,
     "metadata": {},
     "output_type": "execute_result"
    }
   ],
   "source": [
    "y.unique()"
   ]
  },
  {
   "cell_type": "code",
   "execution_count": 156,
   "metadata": {},
   "outputs": [],
   "source": [
    "X_train, X_test, y_train, y_test = train_test_split(X_encoded, y, test_size = 0.2)"
   ]
  },
  {
   "cell_type": "markdown",
   "metadata": {},
   "source": [
    "### Accuracy from Pruned Tree (decision_tree_titanic)"
   ]
  },
  {
   "cell_type": "markdown",
   "metadata": {},
   "source": [
    "In decision_tree_titanic, I built and plotted a pruned decision tree using the Titanic data. It had the following sample accuracies:\n",
    "\n",
    "in‐sample percent survivors correctly predicted (on training set): $\\frac{281}{281+117} = 70.6\\% $\n",
    "\n",
    "in-sample percent fatalities correctly predicted (on training set): $\\frac{580}{580+69} = 89.4\\%$\n",
    "\n",
    "out‐of‐sample percent survivors correctly predicted (on test set): $\\frac{61}{61+41} = 59.8\\%$\n",
    "\n",
    "out-of‐sample percent fatalities correctly predicted (on test set): $\\frac{143}{143+17} = 89.4\\%$\n",
    "\n",
    "Next, I will fit two neural networks to the same data and compare the accuracies. "
   ]
  },
  {
   "cell_type": "markdown",
   "metadata": {},
   "source": [
    "### First Neural Network"
   ]
  },
  {
   "cell_type": "code",
   "execution_count": 157,
   "metadata": {
    "scrolled": true
   },
   "outputs": [
    {
     "name": "stdout",
     "output_type": "stream",
     "text": [
      "Iteration 1, loss = 0.70297229\n",
      "Iteration 2, loss = 0.65470912\n",
      "Iteration 3, loss = 0.64755376\n",
      "Iteration 4, loss = 0.60170808\n",
      "Iteration 5, loss = 0.55830589\n",
      "Iteration 6, loss = 0.52504156\n",
      "Iteration 7, loss = 0.48900599\n",
      "Iteration 8, loss = 0.46222980\n",
      "Iteration 9, loss = 0.45119484\n",
      "Iteration 10, loss = 0.44389292\n",
      "Iteration 11, loss = 0.44477742\n",
      "Iteration 12, loss = 0.44108780\n",
      "Iteration 13, loss = 0.44592109\n",
      "Iteration 14, loss = 0.43914334\n",
      "Iteration 15, loss = 0.44206696\n",
      "Iteration 16, loss = 0.43917675\n",
      "Iteration 17, loss = 0.44237753\n",
      "Iteration 18, loss = 0.44539807\n",
      "Iteration 19, loss = 0.44139143\n",
      "Iteration 20, loss = 0.44163083\n",
      "Iteration 21, loss = 0.44527072\n",
      "Iteration 22, loss = 0.44284946\n",
      "Iteration 23, loss = 0.44233018\n",
      "Iteration 24, loss = 0.44110692\n",
      "Iteration 25, loss = 0.43708393\n",
      "Iteration 26, loss = 0.47298482\n",
      "Iteration 27, loss = 0.44249241\n",
      "Iteration 28, loss = 0.44500754\n",
      "Iteration 29, loss = 0.45010231\n",
      "Iteration 30, loss = 0.44949969\n",
      "Iteration 31, loss = 0.44905505\n",
      "Iteration 32, loss = 0.44821798\n",
      "Iteration 33, loss = 0.44336928\n",
      "Iteration 34, loss = 0.43807745\n",
      "Iteration 35, loss = 0.44949095\n",
      "Iteration 36, loss = 0.43459842\n",
      "Iteration 37, loss = 0.43722071\n",
      "Iteration 38, loss = 0.43754481\n",
      "Iteration 39, loss = 0.43906693\n",
      "Iteration 40, loss = 0.44343907\n",
      "Iteration 41, loss = 0.43419094\n",
      "Iteration 42, loss = 0.43364079\n",
      "Iteration 43, loss = 0.43556084\n",
      "Iteration 44, loss = 0.43309287\n",
      "Iteration 45, loss = 0.43077377\n",
      "Iteration 46, loss = 0.43683009\n",
      "Iteration 47, loss = 0.43207411\n",
      "Iteration 48, loss = 0.43241624\n",
      "Iteration 49, loss = 0.43153924\n",
      "Iteration 50, loss = 0.43335509\n",
      "Iteration 51, loss = 0.42783976\n",
      "Iteration 52, loss = 0.42835594\n",
      "Iteration 53, loss = 0.43186323\n",
      "Iteration 54, loss = 0.42681853\n",
      "Iteration 55, loss = 0.43011575\n",
      "Iteration 56, loss = 0.42741966\n",
      "Iteration 57, loss = 0.42638927\n",
      "Iteration 58, loss = 0.42724220\n",
      "Iteration 59, loss = 0.42822730\n",
      "Iteration 60, loss = 0.42451650\n",
      "Iteration 61, loss = 0.42731318\n",
      "Iteration 62, loss = 0.43629012\n",
      "Iteration 63, loss = 0.44270213\n",
      "Iteration 64, loss = 0.46175119\n",
      "Iteration 65, loss = 0.42737027\n",
      "Iteration 66, loss = 0.43331401\n",
      "Iteration 67, loss = 0.42893985\n",
      "Iteration 68, loss = 0.43677276\n",
      "Iteration 69, loss = 0.43019815\n",
      "Iteration 70, loss = 0.42718046\n",
      "Iteration 71, loss = 0.42921557\n",
      "Training loss did not improve more than tol=0.000100 for 10 consecutive epochs. Stopping.\n"
     ]
    },
    {
     "data": {
      "text/plain": [
       "<sklearn.metrics._plot.confusion_matrix.ConfusionMatrixDisplay at 0x7ff2e9601400>"
      ]
     },
     "execution_count": 157,
     "metadata": {},
     "output_type": "execute_result"
    },
    {
     "data": {
      "image/png": "[encoded data removed]",
      "text/plain": [
       "<Figure size 432x288 with 2 Axes>"
      ]
     },
     "metadata": {
      "needs_background": "light"
     },
     "output_type": "display_data"
    },
    {
     "data": {
      "image/png": "[encoded data removed]",
      "text/plain": [
       "<Figure size 432x288 with 2 Axes>"
      ]
     },
     "metadata": {
      "needs_background": "light"
     },
     "output_type": "display_data"
    }
   ],
   "source": [
    "nn1 = MLPClassifier(activation = 'logistic', solver = 'adam', hidden_layer_sizes = (10, 20),\n",
    "                    random_state = 1, verbose = 10, learning_rate_init = .1)\n",
    "nn1.out_activation_ = 'logistic'\n",
    "nn1.fit(X_train, y_train)\n",
    "\n",
    "plot_confusion_matrix(nn1, X_train, y_train, display_labels = [\"Died\", \"Survived\"])\n",
    "plot_confusion_matrix(nn1, X_test, y_test, display_labels = [\"Died\", \"Survived\"])"
   ]
  },
  {
   "cell_type": "markdown",
   "metadata": {},
   "source": [
    "After fitting my first neural network, we can see the following sample accuracies:\n",
    "\n",
    "in‐sample percent survivors correctly predicted (on training set): $\\frac{257}{257+139} = 64.9\\% $\n",
    "\n",
    "in-sample percent fatalities correctly predicted (on training set): $\\frac{592}{592+59} = 90.1\\%$\n",
    "\n",
    "out‐of‐sample percent survivors correctly predicted (on test set): $\\frac{76}{76+28} = 73.1\\%$\n",
    "\n",
    "out-of‐sample percent fatalities correctly predicted (on test set): $\\frac{135}{135+23} = 85.4\\%$\n"
   ]
  },
  {
   "cell_type": "markdown",
   "metadata": {},
   "source": [
    "### Second Neural Network - Different Number of Neurons in the Hidden Layers"
   ]
  },
  {
   "cell_type": "code",
   "execution_count": 198,
   "metadata": {},
   "outputs": [
    {
     "name": "stdout",
     "output_type": "stream",
     "text": [
      "Iteration 1, loss = 0.73806232\n",
      "Iteration 2, loss = 0.67457344\n",
      "Iteration 3, loss = 0.65244526\n",
      "Iteration 4, loss = 0.55252475\n",
      "Iteration 5, loss = 0.50293274\n",
      "Iteration 6, loss = 0.50536202\n",
      "Iteration 7, loss = 0.50713133\n",
      "Iteration 8, loss = 0.47762106\n",
      "Iteration 9, loss = 0.47756287\n",
      "Iteration 10, loss = 0.46711308\n",
      "Iteration 11, loss = 0.46031935\n",
      "Iteration 12, loss = 0.47024976\n",
      "Iteration 13, loss = 0.45018508\n",
      "Iteration 14, loss = 0.45903089\n",
      "Iteration 15, loss = 0.45899623\n",
      "Iteration 16, loss = 0.44826393\n",
      "Iteration 17, loss = 0.45176020\n",
      "Iteration 18, loss = 0.44905117\n",
      "Iteration 19, loss = 0.45307490\n",
      "Iteration 20, loss = 0.44692532\n",
      "Iteration 21, loss = 0.44543685\n",
      "Iteration 22, loss = 0.44434338\n",
      "Iteration 23, loss = 0.44722575\n",
      "Iteration 24, loss = 0.44293529\n",
      "Iteration 25, loss = 0.45379026\n",
      "Iteration 26, loss = 0.45149249\n",
      "Iteration 27, loss = 0.43845083\n",
      "Iteration 28, loss = 0.47375021\n",
      "Iteration 29, loss = 0.45924070\n",
      "Iteration 30, loss = 0.45687245\n",
      "Iteration 31, loss = 0.44443913\n",
      "Iteration 32, loss = 0.44192545\n",
      "Iteration 33, loss = 0.43990067\n",
      "Iteration 34, loss = 0.44530382\n",
      "Iteration 35, loss = 0.45412844\n",
      "Iteration 36, loss = 0.47158499\n",
      "Iteration 37, loss = 0.45494003\n",
      "Iteration 38, loss = 0.44991822\n",
      "Training loss did not improve more than tol=0.000100 for 10 consecutive epochs. Stopping.\n"
     ]
    },
    {
     "data": {
      "text/plain": [
       "<sklearn.metrics._plot.confusion_matrix.ConfusionMatrixDisplay at 0x7ff2d6e308e0>"
      ]
     },
     "execution_count": 198,
     "metadata": {},
     "output_type": "execute_result"
    },
    {
     "data": {
      "image/png": "[encoded data removed]",
      "text/plain": [
       "<Figure size 432x288 with 2 Axes>"
      ]
     },
     "metadata": {
      "needs_background": "light"
     },
     "output_type": "display_data"
    },
    {
     "data": {
      "image/png": "[encoded data removed]",
      "text/plain": [
       "<Figure size 432x288 with 2 Axes>"
      ]
     },
     "metadata": {
      "needs_background": "light"
     },
     "output_type": "display_data"
    }
   ],
   "source": [
    "nn2 = MLPClassifier(activation = 'logistic', solver = 'adam', hidden_layer_sizes = (40, 20),\n",
    "                    random_state = 1, verbose = 10, learning_rate_init = .1)\n",
    "nn2.out_activation_ = 'logistic'\n",
    "nn2.fit(X_train, y_train)\n",
    "plot_confusion_matrix(nn2, X_train, y_train, display_labels = [\"Died\", \"Survived\"])\n",
    "plot_confusion_matrix(nn2, X_test, y_test, display_labels = [\"Died\", \"Survived\"])"
   ]
  },
  {
   "cell_type": "markdown",
   "metadata": {},
   "source": [
    "After fitting my second neural network, we can see the following sample accuracies:\n",
    "\n",
    "in‐sample percent survivors correctly predicted (on training set): $\\frac{341}{341+73} = 82.4\\% $\n",
    "\n",
    "in-sample percent fatalities correctly predicted (on training set): $\\frac{448}{448+185} = 70.1\\%$\n",
    "\n",
    "out‐of‐sample percent survivors correctly predicted (on test set): $\\frac{78}{78+8} = 90.7\\%$\n",
    "\n",
    "out-of‐sample percent fatalities correctly predicted (on test set): $\\frac{127}{127+49} = 72.2\\%$"
   ]
  },
  {
   "cell_type": "markdown",
   "metadata": {},
   "source": [
    "### Comparing Models"
   ]
  },
  {
   "cell_type": "code",
   "execution_count": 184,
   "metadata": {},
   "outputs": [
    {
     "data": {
      "text/html": [
       "<div>\n",
       "<style scoped>\n",
       "    .dataframe tbody tr th:only-of-type {\n",
       "        vertical-align: middle;\n",
       "    }\n",
       "\n",
       "    .dataframe tbody tr th {\n",
       "        vertical-align: top;\n",
       "    }\n",
       "\n",
       "    .dataframe thead th {\n",
       "        text-align: right;\n",
       "    }\n",
       "</style>\n",
       "<table border=\"1\" class=\"dataframe\">\n",
       "  <thead>\n",
       "    <tr style=\"text-align: right;\">\n",
       "      <th></th>\n",
       "      <th>Pruned Decision Tree</th>\n",
       "      <th>Neural Network 1</th>\n",
       "      <th>Neural Network 2</th>\n",
       "    </tr>\n",
       "  </thead>\n",
       "  <tbody>\n",
       "    <tr>\n",
       "      <th>in‐sample percent survivors correctly predicted (on training set):</th>\n",
       "      <td>70.6%</td>\n",
       "      <td>64.9%</td>\n",
       "      <td>82.4%</td>\n",
       "    </tr>\n",
       "    <tr>\n",
       "      <th>in-sample percent fatalities correctly predicted (on training set):</th>\n",
       "      <td>89.4%</td>\n",
       "      <td>90.1%</td>\n",
       "      <td>70.1%</td>\n",
       "    </tr>\n",
       "    <tr>\n",
       "      <th>out‐of‐sample percent survivors correctly predicted (on test set):</th>\n",
       "      <td>59.8%</td>\n",
       "      <td>73.1%</td>\n",
       "      <td>90.7%</td>\n",
       "    </tr>\n",
       "    <tr>\n",
       "      <th>out-of‐sample percent fatalities correctly predicted (on test set):</th>\n",
       "      <td>89.4%</td>\n",
       "      <td>85.4%</td>\n",
       "      <td>72.2%</td>\n",
       "    </tr>\n",
       "  </tbody>\n",
       "</table>\n",
       "</div>"
      ],
      "text/plain": [
       "                                                   Pruned Decision Tree  \\\n",
       "in‐sample percent survivors correctly predicted...                70.6%   \n",
       "in-sample percent fatalities correctly predicte...                89.4%   \n",
       "out‐of‐sample percent survivors correctly predi...                59.8%   \n",
       "out-of‐sample percent fatalities correctly pred...                89.4%   \n",
       "\n",
       "                                                   Neural Network 1  \\\n",
       "in‐sample percent survivors correctly predicted...            64.9%   \n",
       "in-sample percent fatalities correctly predicte...            90.1%   \n",
       "out‐of‐sample percent survivors correctly predi...            73.1%   \n",
       "out-of‐sample percent fatalities correctly pred...            85.4%   \n",
       "\n",
       "                                                   Neural Network 2  \n",
       "in‐sample percent survivors correctly predicted...            82.4%  \n",
       "in-sample percent fatalities correctly predicte...            70.1%  \n",
       "out‐of‐sample percent survivors correctly predi...            90.7%  \n",
       "out-of‐sample percent fatalities correctly pred...            72.2%  "
      ]
     },
     "execution_count": 184,
     "metadata": {},
     "output_type": "execute_result"
    }
   ],
   "source": [
    "data = {'Pruned Decision Tree':['70.6%', '89.4%', '59.8%', '89.4%'], \n",
    "        'Neural Network 1':['64.9%', '90.1%', '73.1%', '85.4%'], \n",
    "        'Neural Network 2': ['82.4%', '70.1%', '90.7%', '72.2%']} \n",
    " \n",
    "chart = pd.DataFrame(data, index =['in‐sample percent survivors correctly predicted (on training set):', \n",
    "                                   'in-sample percent fatalities correctly predicted (on training set):', \n",
    "                                   'out‐of‐sample percent survivors correctly predicted (on test set):', \n",
    "                                   'out-of‐sample percent fatalities correctly predicted (on test set):'])  \n",
    "chart "
   ]
  },
  {
   "cell_type": "markdown",
   "metadata": {},
   "source": [
    "The pruned decision tree has the most accurate out-of-sample fatalities prediction. The second neural network has the most accurate out-of-sample survivors prediction and the most accurate in-sample survivors prediction. The first neural network has the most accurate in-sample fatalities prediction. Based on this comparison, I would choose to model using the second neural network."
   ]
  }
 ],
 "metadata": {
  "kernelspec": {
   "display_name": "Python 3",
   "language": "python",
   "name": "python3"
  },
  "language_info": {
   "codemirror_mode": {
    "name": "ipython",
    "version": 3
   },
   "file_extension": ".py",
   "mimetype": "text/x-python",
   "name": "python",
   "nbconvert_exporter": "python",
   "pygments_lexer": "ipython3",
   "version": "3.8.3"
  }
 },
 "nbformat": 4,
 "nbformat_minor": 4
}
